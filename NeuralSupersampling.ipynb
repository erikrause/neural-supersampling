{
  "cells": [
    {
      "cell_type": "markdown",
      "source": [
        "# Neural Supersampling"
      ],
      "metadata": {
        "id": "djsZglG72SIl"
      }
    },
    {
      "cell_type": "markdown",
      "source": [
        "## Copy training data"
      ],
      "metadata": {
        "id": "57Mv8SIR2Wfx"
      }
    },
    {
      "cell_type": "code",
      "execution_count": null,
      "metadata": {
        "id": "MnnIPQpjMpuy"
      },
      "outputs": [],
      "source": [
        "from google.colab import drive\n",
        "drive.mount('/content/drive')"
      ]
    },
    {
      "cell_type": "code",
      "execution_count": null,
      "metadata": {
        "id": "VtTer9QFhO5p"
      },
      "outputs": [],
      "source": [
        "!cp -r $PATH_TO_TRAINING_DATA /content/renderings"
      ]
    },
    {
      "cell_type": "markdown",
      "source": [
        "## Install dependencies"
      ],
      "metadata": {
        "id": "46o9MBQJ2ho4"
      }
    },
    {
      "cell_type": "code",
      "execution_count": null,
      "metadata": {
        "colab": {
          "base_uri": "https://localhost:8080/"
        },
        "id": "8j1lScmkNYtK",
        "outputId": "d8f43724-38fd-41e3-e0df-f95943f124a3"
      },
      "outputs": [
        {
          "output_type": "stream",
          "name": "stdout",
          "text": [
            "\u001b[K     |████████████████████████████████| 11.6 MB 8.3 MB/s \n",
            "\u001b[?25h"
          ]
        }
      ],
      "source": [
        "!pip uninstall -y torchtext\n",
        "!pip install -q torch==1.11.0+cu113 torchvision==0.12.0+cu113 --extra-index-url https://download.pytorch.org/whl/cu113\n",
        "!pip install -q pytorch-lightning==1.6.5 kornia==0.6.6 av==9.0.2"
      ]
    },
    {
      "cell_type": "markdown",
      "source": [
        "## Clone repository"
      ],
      "metadata": {
        "id": "heX6VYs23tS8"
      }
    },
    {
      "cell_type": "code",
      "source": [
        "!git clone https://github.com/timmh/neural-supersampling.git /content/neural-supersampling"
      ],
      "metadata": {
        "id": "6B8Qk1Zd3ymM"
      },
      "execution_count": null,
      "outputs": []
    },
    {
      "cell_type": "markdown",
      "source": [
        "## Run unit tests"
      ],
      "metadata": {
        "id": "Vn3vD39r2pPh"
      }
    },
    {
      "cell_type": "code",
      "execution_count": null,
      "metadata": {
        "id": "TYhU6u_JNswO"
      },
      "outputs": [],
      "source": [
        "%cd /content/neural-supersampling\n",
        "!python -m model.model"
      ]
    },
    {
      "cell_type": "markdown",
      "source": [
        "## Tensorboard"
      ],
      "metadata": {
        "id": "cbCTPZ-y2umL"
      }
    },
    {
      "cell_type": "code",
      "execution_count": null,
      "metadata": {
        "colab": {
          "base_uri": "https://localhost:8080/",
          "height": 821
        },
        "id": "G0JiyzkDxoFY",
        "outputId": "11e5d23d-d52d-47b5-c619-ca431f7bd5bf"
      },
      "outputs": [
        {
          "output_type": "display_data",
          "data": {
            "text/plain": [
              "<IPython.core.display.Javascript object>"
            ],
            "application/javascript": [
              "\n",
              "        (async () => {\n",
              "            const url = new URL(await google.colab.kernel.proxyPort(6006, {'cache': true}));\n",
              "            url.searchParams.set('tensorboardColab', 'true');\n",
              "            const iframe = document.createElement('iframe');\n",
              "            iframe.src = url;\n",
              "            iframe.setAttribute('width', '100%');\n",
              "            iframe.setAttribute('height', '800');\n",
              "            iframe.setAttribute('frameborder', 0);\n",
              "            document.body.appendChild(iframe);\n",
              "        })();\n",
              "    "
            ]
          },
          "metadata": {}
        }
      ],
      "source": [
        "%load_ext tensorboard\n",
        "%tensorboard --logdir $TENSORBOARD_PATH"
      ]
    },
    {
      "cell_type": "markdown",
      "source": [
        "## Train model"
      ],
      "metadata": {
        "id": "lxzOk2iQ2xMI"
      }
    },
    {
      "cell_type": "code",
      "execution_count": null,
      "metadata": {
        "id": "5FAx6kvcISXJ"
      },
      "outputs": [],
      "source": [
        "%cd /content/neural-supersampling\n",
        "!python -m model.train \\\n",
        "    --checkpoint_dir $CHECKPOINT_PATH \\\n",
        "    --resume_from_checkpoint $CHECKPOINT_PATH/*.ckpt"
      ]
    },
    {
      "cell_type": "markdown",
      "source": [
        "## Evaluate"
      ],
      "metadata": {
        "id": "sAZLnvzr3BGP"
      }
    },
    {
      "cell_type": "code",
      "execution_count": null,
      "metadata": {
        "id": "l_iujFo-zsKa",
        "colab": {
          "base_uri": "https://localhost:8080/"
        },
        "outputId": "7fa0f48b-b788-4c1b-d1b7-83ea3fe43609"
      },
      "outputs": [
        {
          "output_type": "stream",
          "name": "stdout",
          "text": [
            "/content/drive/MyDrive/nss/neural-supersampling\n",
            "Global seed set to 42\n",
            "/usr/local/lib/python3.7/dist-packages/pytorch_lightning/trainer/connectors/checkpoint_connector.py:52: LightningDeprecationWarning: Setting `Trainer(resume_from_checkpoint=)` is deprecated in v1.5 and will be removed in v1.7. Please pass `Trainer.fit(ckpt_path=)` directly instead.\n",
            "  \"Setting `Trainer(resume_from_checkpoint=)` is deprecated in v1.5 and\"\n",
            "/usr/local/lib/python3.7/dist-packages/pytorch_lightning/loops/utilities.py:95: PossibleUserWarning: `max_epochs` was not set. Setting it to 1000 epochs. To train without an epoch limit, set `max_epochs=-1`.\n",
            "  category=PossibleUserWarning,\n",
            "GPU available: True, used: True\n",
            "TPU available: False, using: 0 TPU cores\n",
            "IPU available: False, using: 0 IPUs\n",
            "HPU available: False, using: 0 HPUs\n",
            "LOCAL_RANK: 0 - CUDA_VISIBLE_DEVICES: [0]\n",
            "Testing DataLoader 0: 100% 70/70 [00:12<00:00,  5.69it/s]\n",
            "────────────────────────────────────────────────────────────────────────────────────────────────────────────────────────\n",
            "       Test metric             DataLoader 0\n",
            "────────────────────────────────────────────────────────────────────────────────────────────────────────────────────────\n",
            "        test_loss           1.4002156257629395\n",
            "        test_ssim          -0.24434471130371094\n",
            "────────────────────────────────────────────────────────────────────────────────────────────────────────────────────────\n"
          ]
        }
      ],
      "source": [
        "%cd /content/neural-supersampling\n",
        "!python -m model.evaluate \\\n",
        "    --checkpoint_dir $CHECKPOINT_PATH \\\n",
        "    --resume_from_checkpoint $CHECKPOINT_PATH/*.ckpt"
      ]
    },
    {
      "cell_type": "markdown",
      "source": [
        "## Visualize"
      ],
      "metadata": {
        "id": "nXrSlHzv3E9i"
      }
    },
    {
      "cell_type": "code",
      "execution_count": null,
      "metadata": {
        "id": "embHf3Xgzyjb"
      },
      "outputs": [],
      "source": [
        "%cd /content/neural-supersampling\n",
        "%env OUTPUT_PATH=/content/visualization.mp4\n",
        "!python -m model.visualize \\\n",
        "    --checkpoint_dir $CHECKPOINT_PATH \\\n",
        "    --output_path $OUTPUT_PATH\n",
        "\n",
        "import os\n",
        "from IPython.display import HTML\n",
        "from base64 import b64encode\n",
        "with open(os.environ[\"OUTPUT_PATH\"], \"rb\") as video:\n",
        "    data_url = \"data:video/mp4;base64,\" + b64encode(video.read()).decode()\n",
        "HTML(f\"\"\"\n",
        "    <video width=\"720\" controls>\n",
        "        <source src=\"{data_url}\" type=\"video/mp4\">\n",
        "    </video>\n",
        "\"\"\")"
      ]
    }
  ],
  "metadata": {
    "accelerator": "GPU",
    "colab": {
      "collapsed_sections": [],
      "name": "NeuralSupersampling.ipynb",
      "provenance": []
    },
    "gpuClass": "standard",
    "kernelspec": {
      "display_name": "Python 3",
      "name": "python3"
    },
    "language_info": {
      "name": "python"
    }
  },
  "nbformat": 4,
  "nbformat_minor": 0
}